{
 "cells": [
  {
   "cell_type": "code",
   "execution_count": 4,
   "id": "dbb43518b4c10f47",
   "metadata": {
    "collapsed": false,
    "ExecuteTime": {
     "end_time": "2024-03-11T19:11:26.854598Z",
     "start_time": "2024-03-11T19:11:25.038132Z"
    },
    "pycharm": {
     "name": "#%%\n"
    }
   },
   "outputs": [],
   "source": [
    "# ---- Importing the required libraries ----\n",
    "import matplotlib.pyplot as plt\n",
    "import seaborn as sns\n",
    "from sklearn.metrics import matthews_corrcoef\n",
    "from sklearn.model_selection import train_test_split\n",
    "from sklearn.tree import DecisionTreeClassifier\n",
    "from sklearn.neighbors import KNeighborsClassifier\n",
    "from utils.resources_monitor import monitor_tic, monitor_toc\n",
    "from utils.energy_simulator import simulate_energy_consumption\n",
    "from utils.xai_methods import *\n",
    "\n",
    "# setting seeds\n",
    "global_random_seed = 42\n",
    "np.random.seed(global_random_seed)"
   ]
  },
  {
   "cell_type": "code",
   "outputs": [],
   "source": [
    "# ---- Loading the dataset ----\n",
    "\n",
    "# loading dataset\n",
    "dataset = pd.read_csv(\"../datasets/iris.csv\")\n",
    "\n",
    "dataset.head(10)"
   ],
   "metadata": {
    "collapsed": false,
    "ExecuteTime": {
     "end_time": "2024-03-11T19:11:26.887120Z",
     "start_time": "2024-03-11T19:11:26.857009Z"
    },
    "pycharm": {
     "name": "#%%\n",
     "is_executing": true
    }
   },
   "id": "aad240ce69d28448",
   "execution_count": null
  },
  {
   "cell_type": "code",
   "execution_count": null,
   "outputs": [],
   "source": [
    "# ---- Training and testing the ML models----\n",
    "\n",
    "# model setup\n",
    "DT = DecisionTreeClassifier(random_state=global_random_seed)\n",
    "KNN = KNeighborsClassifier()\n",
    "\n",
    "# xai setup\n",
    "PI = permutation_importance_explanation\n",
    "SHAP = shap_explanation\n",
    "\n",
    "# splitting features & label\n",
    "X = dataset.drop('species', axis=1)\n",
    "y = dataset['species']\n",
    "y, _  = pd.factorize(y)\n",
    "\n",
    "# splitting the dataset in train and test\n",
    "x_train, x_test, y_train, y_test = train_test_split(X, y, test_size=0.3, random_state=global_random_seed, stratify=y)\n",
    "\n",
    "# training models\n",
    "DT.fit(x_train, y_train)\n",
    "KNN.fit(x_train, y_train)\n",
    "\n",
    "# testing models\n",
    "y_pred_1 = DT.predict(x_test)\n",
    "y_pred_2 = KNN.predict(x_test)\n",
    "\n",
    "mcc_1 = matthews_corrcoef(y_test, y_pred_1)\n",
    "mcc_2 = matthews_corrcoef(y_test, y_pred_2)\n",
    "\n",
    "# showing the MCC values\n",
    "data = {\n",
    "    'Model': ['DT', 'KNN'],\n",
    "    'MCC': [mcc_1, mcc_2]\n",
    "}\n",
    "# Creating DataFrame\n",
    "df = pd.DataFrame(data)\n",
    "plt.figure(figsize=(8, 6))\n",
    "sns.barplot(x='Model', y='MCC', data=df, palette='viridis')\n",
    "plt.xlabel('Models')\n",
    "plt.ylabel('MCC')\n",
    "plt.title('Comparison of Model Performance')\n",
    "for i, acc in enumerate([mcc_1, mcc_2]):\n",
    "    plt.text(i, acc, f'{acc:.2f}', ha='center', va='bottom')\n",
    "plt.ylim(0, 1)\n",
    "plt.show()"
   ],
   "metadata": {
    "collapsed": false,
    "pycharm": {
     "name": "#%%\n",
     "is_executing": true
    }
   }
  },
  {
   "cell_type": "code",
   "execution_count": null,
   "outputs": [],
   "source": [
    "# ---- Executing XAI methods and showing the feature's relevance ----\n",
    "\n",
    "# computing features relevance for DT with Permutation Importance\n",
    "monitor_tic()\n",
    "f_relevance_PI_DT = PI(x_test, y_test, DT)\n",
    "time_PI_DT, cpu_percent_PI_DT = monitor_toc()\n",
    "energy_consumed_PI_DT = simulate_energy_consumption(time_PI_DT, cpu_percent_PI_DT)\n",
    "\n",
    "# computing features relevance for DT with SHAP\n",
    "monitor_tic()\n",
    "f_relevance_SHAP_DT = SHAP(x_test, y_test, DT)\n",
    "time_SHAP_DT, cpu_percent_SHAP_DT = monitor_toc()\n",
    "energy_consumed_SHAP_DT = simulate_energy_consumption(time_SHAP_DT, cpu_percent_SHAP_DT)\n",
    "\n",
    "# computing features relevance for KNN with Permutation Importance\n",
    "monitor_tic()\n",
    "f_relevance_PI_KNN = PI(x_test, y_test, KNN)\n",
    "time_PI_KNN, cpu_percent_PI_KNN = monitor_toc()\n",
    "energy_consumed_PI_KNN = simulate_energy_consumption(time_PI_KNN, cpu_percent_PI_KNN)\n",
    "\n",
    "# computing features relevance for KNN with SHAP\n",
    "monitor_tic()\n",
    "f_relevance_SHAP_KNN = SHAP(x_test, y_test, KNN)\n",
    "time_SHAP_KNN, cpu_percent_SHAP_KNN = monitor_toc()\n",
    "energy_consumed_SHAP_KNN = simulate_energy_consumption(time_SHAP_KNN, cpu_percent_SHAP_KNN)\n",
    "\n",
    "\n",
    "# Creating dataframe with the results of feature relevance\n",
    "data = {\n",
    "    'ML model': ['DT', 'DT', 'KNN', 'KNN'],\n",
    "    'XAI method': ['PI', 'SHAP', 'PI', 'SHAP'],\n",
    "    'Features Relevance': [np.round(f_relevance_PI_DT, 3), np.round(f_relevance_SHAP_DT, 3), np.round(f_relevance_PI_KNN, 3), np.round(f_relevance_SHAP_KNN, 3)]\n",
    "}\n",
    "df_f_relevance = pd.DataFrame(data)\n",
    "\n",
    "# Plotting correlations\n",
    "print(df_f_relevance)\n",
    "\n",
    "print(list(dataset.columns))"
   ],
   "metadata": {
    "collapsed": false,
    "pycharm": {
     "name": "#%%\n",
     "is_executing": true
    }
   }
  },
  {
   "cell_type": "code",
   "execution_count": null,
   "outputs": [],
   "source": [
    "# ---- Computing the levels of agreement ----\n",
    "\n",
    "# Compute correlation for each ML model separately\n",
    "correlation_results = {}\n",
    "for model, group in df_f_relevance.groupby('ML model'):\n",
    "    # Extract 'PI' and 'SHAP' arrays for the model\n",
    "    pi_array = group[group['XAI method'] == 'PI']['Features Relevance'].iloc[0]\n",
    "    shap_array = group[group['XAI method'] == 'SHAP']['Features Relevance'].iloc[0]\n",
    "    # Compute correlation\n",
    "    correlation_results[model] = np.corrcoef(pi_array, shap_array)[0, 1]\n",
    "\n",
    "plt.figure(figsize=(8, 6))\n",
    "plt.bar(correlation_results.keys(), correlation_results.values(), color='skyblue')\n",
    "plt.xlabel('ML Model')\n",
    "plt.ylabel('Correlation')\n",
    "plt.title('Correlation between PI and SHAP for each ML Model')\n",
    "plt.ylim(0, 1)  # Set y-axis limits to the range [-1, 1]\n",
    "plt.grid(axis='y', linestyle='--', alpha=0.7)\n",
    "# plt.xticks(rotation=45)\n",
    "for model, correlation in correlation_results.items():\n",
    "    plt.text(model, correlation, f'{correlation}', ha='center', va='top')\n",
    "\n",
    "# Show plot\n",
    "plt.tight_layout()\n",
    "plt.show()"
   ],
   "metadata": {
    "collapsed": false,
    "pycharm": {
     "name": "#%%\n",
     "is_executing": true
    }
   }
  },
  {
   "cell_type": "code",
   "execution_count": null,
   "outputs": [],
   "source": [
    "# ---- Showing the XAI costs ----\n",
    "\n",
    "data = {\n",
    "    'ML model': ['DT', 'DT', 'KNN', 'KNN'],\n",
    "    'XAI method': ['PI', 'SHAP', 'PI', 'SHAP'],\n",
    "    'Execution time': [time_PI_DT, time_SHAP_DT, time_PI_KNN, time_SHAP_KNN],\n",
    "    'Energy consumption': [energy_consumed_PI_DT, energy_consumed_SHAP_DT, energy_consumed_PI_KNN, energy_consumed_SHAP_KNN],\n",
    "}\n",
    "df_costs = pd.DataFrame(data)\n",
    "\n",
    "# Plotting costs\n",
    "plt.figure(figsize=(10, 6))\n",
    "plt.subplot(1, 2, 1)\n",
    "sns.barplot(data=df_costs, x='ML model', y='Execution time', hue='XAI method')\n",
    "plt.title('Execution Time')\n",
    "plt.xlabel('ML Model')\n",
    "plt.ylabel('Time (s)')\n",
    "plt.subplot(1, 2, 2)\n",
    "sns.barplot(data=df_costs, x='ML model', y='Energy consumption', hue='XAI method')\n",
    "plt.title('Energy Consumption')\n",
    "plt.xlabel('ML Model')\n",
    "plt.ylabel('Energy (J)')\n",
    "plt.tight_layout()\n",
    "plt.show()\n"
   ],
   "metadata": {
    "collapsed": false,
    "pycharm": {
     "name": "#%%\n",
     "is_executing": true
    }
   }
  }
 ],
 "metadata": {
  "kernelspec": {
   "display_name": "Python 3",
   "language": "python",
   "name": "python3"
  },
  "language_info": {
   "codemirror_mode": {
    "name": "ipython",
    "version": 2
   },
   "file_extension": ".py",
   "mimetype": "text/x-python",
   "name": "python",
   "nbconvert_exporter": "python",
   "pygments_lexer": "ipython2",
   "version": "2.7.6"
  }
 },
 "nbformat": 4,
 "nbformat_minor": 5
}
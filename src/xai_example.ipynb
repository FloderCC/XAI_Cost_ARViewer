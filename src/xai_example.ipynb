{
 "cells": [
  {
   "cell_type": "code",
   "execution_count": null,
   "id": "initial_id",
   "metadata": {
    "collapsed": true,
    "ExecuteTime": {
     "end_time": "2024-03-05T11:21:01.663207Z",
     "start_time": "2024-03-05T11:20:59.456267Z"
    },
    "pycharm": {
     "name": "#%%\n",
     "is_executing": true
    }
   },
   "outputs": [
    {
     "name": "stdout",
     "output_type": "stream",
     "text": [
      "Preprocessing ...\n",
      "Training ...\n",
      "Testing ...\n",
      "Explaining test dataset ...\n"
     ]
    },
    {
     "data": {
      "text/plain": "  0%|          | 0/3254 [00:00<?, ?it/s]",
      "application/vnd.jupyter.widget-view+json": {
       "version_major": 2,
       "version_minor": 0,
       "model_id": "19ec18e7452848bf825794ce1f0d35a8"
      }
     },
     "metadata": {},
     "output_type": "display_data"
    }
   ],
   "source": [
    "import os\n",
    "import numpy as np\n",
    "from sklearn.metrics import matthews_corrcoef\n",
    "from sklearn.model_selection import train_test_split\n",
    "from sklearn.tree import DecisionTreeClassifier\n",
    "\n",
    "from utils.resources_monitor import monitor_tic, monitor_toc\n",
    "from utils.energy_simulator import simulate_energy_consumption\n",
    "from utils.xai_methods import *\n",
    "\n",
    "# setting seeds\n",
    "global_random_seed = 42\n",
    "np.random.seed(global_random_seed)\n",
    "\n",
    "\n",
    "# dataset setup\n",
    "dataset_setup = ['IoT-APD', ['second'], 'label']\n",
    "# dataset_setup = ['5G_Slicing', [], 'Slice Type (Output)']\n",
    "\n",
    "# model setup\n",
    "model = DecisionTreeClassifier(random_state=global_random_seed)\n",
    "# model = KNeighborsClassifier()\n",
    "\n",
    "# xai setup\n",
    "# xai_method = permutation_importance_explanation\n",
    "xai_method = shap_explanation\n",
    "\n",
    "\n",
    "# loading dataset\n",
    "dataset_name = dataset_setup[0]\n",
    "dataset_folder = f\"../datasets/{dataset_name}\"\n",
    "df = pd.read_csv(f\"{dataset_folder}/{[file for file in os.listdir(dataset_folder) if file.endswith('.csv')][0]}\", low_memory=False)\n",
    "\n",
    "# dataset preprocessing\n",
    "print(\"Preprocessing ...\")\n",
    "# encoding all no numerical columns\n",
    "from sklearn.preprocessing import LabelEncoder\n",
    "le = LabelEncoder()\n",
    "for column in df.columns:\n",
    "    if not df[column].dtype.kind in ['i', 'f']:\n",
    "        print(f\" - Encoding column {column}\")\n",
    "        df[column] = le.fit_transform(df[column].astype(str))\n",
    "    \n",
    "        \n",
    "# replacing missing values by mean\n",
    "if df.isnull().any().any():\n",
    "    print(\" - Replacing missing values by mean\")\n",
    "    df.fillna(df.mean(), inplace=True)\n",
    "\n",
    "\n",
    "# splitting features & label\n",
    "X = df.drop(dataset_setup[2], axis=1)\n",
    "y = df[dataset_setup[2]]\n",
    "\n",
    "# splitting the dataset in train and test\n",
    "x_train, x_test, y_train, y_test = train_test_split(X, y, test_size=0.3, random_state=global_random_seed, stratify=y)\n",
    "\n",
    "# training\n",
    "print(\"Training ...\")\n",
    "monitor_tic()\n",
    "model.fit(x_train, y_train)\n",
    "tr_action_cpu_percent, tr_action_elapsed_time = monitor_toc()\n",
    "\n",
    "# validating\n",
    "print(\"Testing ...\")\n",
    "monitor_tic()\n",
    "y_pred = model.predict(x_test)\n",
    "inf_action_elapsed_time, inf_action_cpu_percent = monitor_toc()\n",
    "inf_energy = simulate_energy_consumption(inf_action_elapsed_time, inf_action_cpu_percent)\n",
    "\n",
    "mcc = matthews_corrcoef(y_test, y_pred)\n",
    "\n",
    "# explaining\n",
    "print(f\"Explaining test dataset ...\")\n",
    "monitor_tic()\n",
    "te_f_relevance = xai_method(x_test, y_test, model)\n",
    "te_xai_action_elapsed_time, te_xai_action_cpu_percent = monitor_toc()\n",
    "xai_energy = simulate_energy_consumption(te_xai_action_elapsed_time, te_xai_action_cpu_percent)\n",
    "\n",
    "# printing summary\n",
    "print(\"Summary: \")\n",
    "print(f\"Inference time (CPU%): {inf_action_elapsed_time} ({inf_action_cpu_percent})\")\n",
    "print(f\"Inference energy: {inf_energy} J\")\n",
    "\n",
    "print(f\"XAI time (CPU%): {te_xai_action_elapsed_time} ({te_xai_action_cpu_percent})\")\n",
    "print(f\"XAI energy: {xai_energy} J\")\n"
   ]
  }
 ],
 "metadata": {
  "kernelspec": {
   "display_name": "Python 3",
   "language": "python",
   "name": "python3"
  },
  "language_info": {
   "codemirror_mode": {
    "name": "ipython",
    "version": 2
   },
   "file_extension": ".py",
   "mimetype": "text/x-python",
   "name": "python",
   "nbconvert_exporter": "python",
   "pygments_lexer": "ipython2",
   "version": "2.7.6"
  }
 },
 "nbformat": 4,
 "nbformat_minor": 5
}